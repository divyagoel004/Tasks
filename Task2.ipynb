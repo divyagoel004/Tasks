{
  "nbformat": 4,
  "nbformat_minor": 0,
  "metadata": {
    "colab": {
      "provenance": []
    },
    "kernelspec": {
      "name": "python3",
      "display_name": "Python 3"
    },
    "language_info": {
      "name": "python"
    }
  },
  "cells": [
    {
      "cell_type": "code",
      "execution_count": 2,
      "metadata": {
        "colab": {
          "base_uri": "https://localhost:8080/"
        },
        "id": "vVxVIfdibiDf",
        "outputId": "72af7276-d0a6-431b-e331-f92dc8b9bbab"
      },
      "outputs": [
        {
          "output_type": "stream",
          "name": "stderr",
          "text": [
            "No model was supplied, defaulted to distilbert/distilbert-base-uncased-finetuned-sst-2-english and revision af0f99b (https://huggingface.co/distilbert/distilbert-base-uncased-finetuned-sst-2-english).\n",
            "Using a pipeline without specifying a model name and revision in production is not recommended.\n",
            "/usr/local/lib/python3.10/dist-packages/transformers/tokenization_utils_base.py:1601: FutureWarning: `clean_up_tokenization_spaces` was not set. It will be set to `True` by default. This behavior will be depracted in transformers v4.45, and will be then set to `False` by default. For more details check this issue: https://github.com/huggingface/transformers/issues/31884\n",
            "  warnings.warn(\n"
          ]
        }
      ],
      "source": [
        "from transformers import pipeline\n",
        "sa= pipeline(\"sentiment-analysis\")"
      ]
    },
    {
      "cell_type": "code",
      "source": [
        "comments = [\n",
        "    \"I love both Manga and Manhwa, but they have such different storytelling styles.\",\n",
        "    \"Manhwa has become so much better than Manga lately!\",\n",
        "    \"I find Manga really boring compared to Manhwa.\",\n",
        "    \"Manhwa is okay, but it just doesn't have the same magic as Manga.\",\n",
        "    \"I can't stand how predictable Manhwa is sometimes.\",\n",
        "    \"Both are great in their own way, it just depends on what you're in the mood for.\",\n",
        "    \"I really enjoy the color in Manhwa compared to the black and white Manga.\"\n",
        "]\n",
        "results = sa(comments)"
      ],
      "metadata": {
        "id": "byrT5a0ebmgg"
      },
      "execution_count": 3,
      "outputs": []
    },
    {
      "cell_type": "code",
      "source": [
        "positive_comments = [comment for comment, result in zip(comments, results) if result['label'] == 'POSITIVE']\n",
        "negative_comments = [comment for comment, result in zip(comments, results) if result['label'] == 'NEGATIVE']"
      ],
      "metadata": {
        "id": "EXxTGGkEcPGs"
      },
      "execution_count": 4,
      "outputs": []
    },
    {
      "cell_type": "code",
      "source": [
        "positive_percentage = len(positive_comments) / len(comments) * 100\n",
        "negative_percentage = len(negative_comments) / len(comments) * 100"
      ],
      "metadata": {
        "id": "xkCKFugjcPKC"
      },
      "execution_count": 5,
      "outputs": []
    },
    {
      "cell_type": "code",
      "source": [
        "print(f\"Positive comments: {positive_percentage}%\")\n",
        "print(f\"Negative comments: {negative_percentage}%\")"
      ],
      "metadata": {
        "colab": {
          "base_uri": "https://localhost:8080/"
        },
        "id": "ySN_78A1cStG",
        "outputId": "4923c6f8-6dd5-4744-973e-812a628b4a41"
      },
      "execution_count": 6,
      "outputs": [
        {
          "output_type": "stream",
          "name": "stdout",
          "text": [
            "Positive comments: 57.14285714285714%\n",
            "Negative comments: 42.857142857142854%\n"
          ]
        }
      ]
    },
    {
      "cell_type": "code",
      "source": [
        "print(\"\\nPositive Comments:\")\n",
        "for comment in positive_comments:\n",
        "    print(f\"- {comment}\")"
      ],
      "metadata": {
        "colab": {
          "base_uri": "https://localhost:8080/"
        },
        "id": "_DzKVI7dcSwj",
        "outputId": "e856aef5-b3ca-4e84-d7b1-e1184eaaf939"
      },
      "execution_count": 7,
      "outputs": [
        {
          "output_type": "stream",
          "name": "stdout",
          "text": [
            "\n",
            "Positive Comments:\n",
            "- I love both Manga and Manhwa, but they have such different storytelling styles.\n",
            "- Manhwa has become so much better than Manga lately!\n",
            "- Both are great in their own way, it just depends on what you're in the mood for.\n",
            "- I really enjoy the color in Manhwa compared to the black and white Manga.\n"
          ]
        }
      ]
    },
    {
      "cell_type": "code",
      "source": [
        "print(\"\\nNegative Comments:\")\n",
        "for comment in negative_comments:\n",
        "    print(f\"- {comment}\")"
      ],
      "metadata": {
        "colab": {
          "base_uri": "https://localhost:8080/"
        },
        "id": "b5X1-9wxcWVS",
        "outputId": "86e00447-30e9-4195-d8f9-90325fca58de"
      },
      "execution_count": 8,
      "outputs": [
        {
          "output_type": "stream",
          "name": "stdout",
          "text": [
            "\n",
            "Negative Comments:\n",
            "- I find Manga really boring compared to Manhwa.\n",
            "- Manhwa is okay, but it just doesn't have the same magic as Manga.\n",
            "- I can't stand how predictable Manhwa is sometimes.\n"
          ]
        }
      ]
    },
    {
      "cell_type": "code",
      "source": [],
      "metadata": {
        "id": "yo1fMjEfchIn"
      },
      "execution_count": null,
      "outputs": []
    }
  ]
}